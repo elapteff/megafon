{
 "cells":[
  {
   "cell_type":"code",
   "source":[
    "import pandas as pd\n",
    "import numpy as np\n",
    "\n",
    "#read csv\n",
    "df=pd.read_csv('events.csv', sep=',', parse_dates=[1])\n",
    "#change datetype to day\n",
    "df['Метка времени'] = df['Метка времени'].dt.date\n",
    "#make pivot table\n",
    "pivot=pd.pivot_table(df, values='Объем затраченных единиц', index=['id абонента', 'Метка времени'], columns='Тип услуги',aggfunc=np.sum)\n",
    "#rename colmns for those in task\n",
    "pivot.rename(columns = {'id абонента':'Абонент','Метка времени':'Дата','Звонок':'Потрачено минут','смс':'Потрачено смс','мб':'Потрачено трафика'}, inplace = True)\n",
    "#save to csv\n",
    "pivot.to_csv('out.csv',encoding='utf-8', index=True)"
   ],
   "execution_count":14,
   "outputs":[
    
   ],
   "metadata":{
    "datalore":{
     "type":"CODE",
     "hide_input_from_viewers":false,
     "hide_output_from_viewers":false
    }
   }
  }
 ],
 "metadata":{
  "datalore":{
   "version":1,
   "computation_mode":"JUPYTER",
   "package_manager":"pip",
   "base_environment":"default",
   "packages":[
    
   ]
  }
 },
 "nbformat":4,
 "nbformat_minor":4
}